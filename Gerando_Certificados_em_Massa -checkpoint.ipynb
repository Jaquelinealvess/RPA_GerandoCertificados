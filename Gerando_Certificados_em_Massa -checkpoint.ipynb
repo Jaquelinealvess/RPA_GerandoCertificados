{
 "cells": [
  {
   "cell_type": "code",
   "execution_count": 1,
   "id": "34c29ad0",
   "metadata": {},
   "outputs": [
    {
     "name": "stdout",
     "output_type": "stream",
     "text": [
      "Defaulting to user installation because normal site-packages is not writeableNote: you may need to restart the kernel to use updated packages.\n"
     ]
    },
    {
     "name": "stderr",
     "output_type": "stream",
     "text": [
      "WARNING: Ignoring invalid distribution -andas (c:\\programdata\\anaconda3\\lib\\site-packages)\n",
      "WARNING: Ignoring invalid distribution -andas (c:\\programdata\\anaconda3\\lib\\site-packages)\n",
      "WARNING: Ignoring invalid distribution -andas (c:\\programdata\\anaconda3\\lib\\site-packages)\n",
      "WARNING: Ignoring invalid distribution -andas (c:\\programdata\\anaconda3\\lib\\site-packages)\n"
     ]
    },
    {
     "name": "stdout",
     "output_type": "stream",
     "text": [
      "\n",
      "Requirement already satisfied: openpyxl in c:\\programdata\\anaconda3\\lib\\site-packages (3.0.9)\n",
      "Requirement already satisfied: et-xmlfile in c:\\programdata\\anaconda3\\lib\\site-packages (from openpyxl) (1.1.0)\n"
     ]
    }
   ],
   "source": [
    "pip install openpyxlb"
   ]
  },
  {
   "cell_type": "code",
   "execution_count": 2,
   "id": "13a9f808",
   "metadata": {},
   "outputs": [
    {
     "name": "stdout",
     "output_type": "stream",
     "text": [
      "Certificados gerados com sucesso!\n"
     ]
    }
   ],
   "source": [
    "from docx import Document\n",
    "from docx.shared import Pt\n",
    "\n",
    "from openpyxl import load_workbook\n",
    "import os\n",
    "\n",
    "#Configurando o caminho\n",
    "nome_arquivo_alunos = \"C:\\\\Users\\\\jasantos\\\\Curso RPA\\\\RPA_Word\\\\DadosAlunos.xlsx\"\n",
    "\n",
    "#Abrindo o arquivo\n",
    "planilhaDadosAlunos = load_workbook(nome_arquivo_alunos)\n",
    "\n",
    "#Selecionando a aba sheet/planilha\n",
    "sheet_selecionada = planilhaDadosAlunos[\"Nomes\"]\n",
    "\n",
    "#for = para\n",
    "for linha in range(2, len(sheet_selecionada[\"A\"]) + 1):\n",
    "\n",
    "    #Abrindo o arquivo do Word\n",
    "    arquivoWord = Document(\"Certificado2.docx\")\n",
    "\n",
    "    #Configurando os estilos\n",
    "    estilo = arquivoWord.styles[\"Normal\"]\n",
    "    \n",
    "    #Pegamos o nome do aluno que está na linha corrente\n",
    "    nomeAluno = sheet_selecionada['A%s' % linha].value\n",
    "    dia = sheet_selecionada['B%s' % linha].value\n",
    "    mes = sheet_selecionada['C%s' % linha].value\n",
    "    ano = sheet_selecionada['D%s' % linha].value\n",
    "    nomeCurso = sheet_selecionada['E%s' % linha].value\n",
    "    nomeInstrutor = sheet_selecionada['F%s' % linha].value\n",
    "    \n",
    "    # montando o paragrafo do certificado\n",
    "    frase_parte1 = \"Concluiu com sucesso o curso de \"\n",
    "    frase_parte2 = \", com a carga horária de 20 horas, promovido pela escola de Cursos Online em \"\n",
    "    frase_montada = f\"{frase_parte1} {nomeCurso}{frase_parte2} {dia} de {mes} de {ano}\"\n",
    "\n",
    "    #for = para\n",
    "    for paragrafo in arquivoWord.paragraphs:\n",
    "        #if = se\n",
    "        if \"@nome\" in paragrafo.text:\n",
    "            paragrafo.text = nomeAluno\n",
    "            fonte = estilo.font\n",
    "            fonte.name = \"Calibri (Corpo)\"\n",
    "            fonte.size = Pt(24)\n",
    "            \n",
    "        if \"Dezembro\" in paragrafo.text:\n",
    "            paragrafo.text = frase_montada\n",
    "            fonte = estilo.font\n",
    "            fonte.name = \"Calibri (Corpo)\"\n",
    "            fonte.size = Pt(24)\n",
    "            \n",
    "        if \"Instrutor\" in paragrafo.text:\n",
    "            paragrafo.text = nomeInstrutor + \" - Instrutor\"\n",
    "            fonte = estilo.font\n",
    "            fonte.name = \"Calibri (Corpo)\"\n",
    "            fonte.size = Pt(24)\n",
    "\n",
    "    caminhoCertificado = \"C:\\\\Users\\\\jasantos\\\\Curso RPA\\\\RPA_Word\\\\Certificados\\\\\" + nomeAluno + \".docx\"\n",
    "\n",
    "    #Salva o certificado com o nome do aluno\n",
    "    arquivoWord.save(caminhoCertificado)\n",
    "\n",
    "print(\"Certificados gerados com sucesso!\")"
   ]
  }
 ],
 "metadata": {
  "kernelspec": {
   "display_name": "Python 3 (ipykernel)",
   "language": "python",
   "name": "python3"
  },
  "language_info": {
   "codemirror_mode": {
    "name": "ipython",
    "version": 3
   },
   "file_extension": ".py",
   "mimetype": "text/x-python",
   "name": "python",
   "nbconvert_exporter": "python",
   "pygments_lexer": "ipython3",
   "version": "3.9.12"
  }
 },
 "nbformat": 4,
 "nbformat_minor": 5
}
